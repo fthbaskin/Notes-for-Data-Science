{
 "cells": [
  {
   "cell_type": "markdown",
   "metadata": {},
   "source": [
    "# Custom Decorators"
   ]
  },
  {
   "cell_type": "markdown",
   "metadata": {},
   "source": [
    "## Function Decorators"
   ]
  },
  {
   "cell_type": "markdown",
   "metadata": {},
   "source": [
    "### Basic Decorator"
   ]
  },
  {
   "cell_type": "code",
   "execution_count": 6,
   "metadata": {},
   "outputs": [
    {
     "name": "stdout",
     "output_type": "stream",
     "text": [
      "Function function1 is called.\n",
      "Function1 is called, Deneme, 123\n"
     ]
    }
   ],
   "source": [
    "def function_decorator1(func):\n",
    "    # You pass the parameters of the function to the wrapper function by using *args and **kwargs\n",
    "    def wrapper(*args, **kwargs):\n",
    "        # Do whatever you want to do before the function is called or after, logging is a common use case.\n",
    "        print(f\"Function {func.__name__} is called.\")\n",
    "        return func(*args, **kwargs)\n",
    "    return wrapper\n",
    "\n",
    "\n",
    "@function_decorator1\n",
    "def function1(arg1: str, arg2: int) -> None:\n",
    "    print(f\"Function1 is called, {arg1}, {arg2}\")\n",
    "\n",
    "\n",
    "function1(\"Deneme\", 123)"
   ]
  },
  {
   "cell_type": "markdown",
   "metadata": {},
   "source": [
    "### Decorators That Take Parameters"
   ]
  },
  {
   "cell_type": "code",
   "execution_count": 7,
   "metadata": {},
   "outputs": [
    {
     "name": "stdout",
     "output_type": "stream",
     "text": [
      "Decorator parameter: Apple\n"
     ]
    }
   ],
   "source": [
    "def function_decorator2(param1):\n",
    "    # If you put a code here, it will be executed when decorated function is called.\n",
    "    print(f\"Decorator parameter: {param1}\")\n",
    "\n",
    "    # You can pass parameters to the decorator by using a function that returns the inner decorator\n",
    "    def inner_decorator(func):\n",
    "        # You pass the parameters of the function to the wrapper function by using *args and **kwargs\n",
    "        def wrapper(*args, **kwargs):\n",
    "            # Do whatever you want to do before the function is called or after with decorator parameter, logging is a common use case.\n",
    "            print(f\"Function {func.__name__} is called. Decorator parameter: {param1}\")\n",
    "            return func(*args, **kwargs)\n",
    "        return wrapper\n",
    "    # If you put a code here, it will be executed when decorated function is called.\n",
    "    return inner_decorator\n",
    "\n",
    "\n",
    "# Will give output\n",
    "@function_decorator2(\"Apple\")\n",
    "def function2(arg1: str, arg2: int) -> None:\n",
    "    print(f\"Function2 is called, {arg1}, {arg2}\")"
   ]
  },
  {
   "cell_type": "code",
   "execution_count": 8,
   "metadata": {},
   "outputs": [
    {
     "name": "stdout",
     "output_type": "stream",
     "text": [
      "Function function2 is called. Decorator parameter: Apple\n",
      "Function2 is called, Deneme, 123\n"
     ]
    }
   ],
   "source": [
    "function2(\"Deneme\", 123)"
   ]
  },
  {
   "cell_type": "markdown",
   "metadata": {},
   "source": [
    "### Decorator Call Order"
   ]
  },
  {
   "cell_type": "code",
   "execution_count": 9,
   "metadata": {},
   "outputs": [
    {
     "name": "stdout",
     "output_type": "stream",
     "text": [
      "Function wrapper is called inside function_decorator3.\n",
      "Function function3 is called inside function_decorator4.\n",
      "Function3 is called, Deneme, 123\n"
     ]
    }
   ],
   "source": [
    "def function_decorator3(func):\n",
    "    def wrapper(*args, **kwargs):\n",
    "        print(f\"Function {func.__name__} is called inside function_decorator3.\")\n",
    "        return func(*args, **kwargs)\n",
    "    return wrapper\n",
    "\n",
    "\n",
    "def function_decorator4(func):\n",
    "    def wrapper(*args, **kwargs):\n",
    "        print(f\"Function {func.__name__} is called inside function_decorator4.\")\n",
    "        return func(*args, **kwargs)\n",
    "    return wrapper\n",
    "\n",
    "\n",
    "@function_decorator3\n",
    "@function_decorator4\n",
    "def function3(arg1: str, arg2: int) -> None:\n",
    "    print(f\"Function3 is called, {arg1}, {arg2}\")\n",
    "\n",
    "\n",
    "function3(\"Deneme\", 123)"
   ]
  },
  {
   "cell_type": "code",
   "execution_count": 10,
   "metadata": {},
   "outputs": [
    {
     "name": "stdout",
     "output_type": "stream",
     "text": [
      "Function wrapper is called inside function_decorator4.\n",
      "Function function4 is called inside function_decorator3.\n",
      "Function4 is called, Deneme, 123\n"
     ]
    }
   ],
   "source": [
    "@function_decorator4\n",
    "@function_decorator3\n",
    "def function4(arg1: str, arg2: int) -> None:\n",
    "    print(f\"Function4 is called, {arg1}, {arg2}\")\n",
    "\n",
    "\n",
    "function4(\"Deneme\", 123)"
   ]
  }
 ],
 "metadata": {
  "kernelspec": {
   "display_name": "dl_workbench",
   "language": "python",
   "name": "python3"
  },
  "language_info": {
   "codemirror_mode": {
    "name": "ipython",
    "version": 3
   },
   "file_extension": ".py",
   "mimetype": "text/x-python",
   "name": "python",
   "nbconvert_exporter": "python",
   "pygments_lexer": "ipython3",
   "version": "3.12.5"
  }
 },
 "nbformat": 4,
 "nbformat_minor": 2
}
