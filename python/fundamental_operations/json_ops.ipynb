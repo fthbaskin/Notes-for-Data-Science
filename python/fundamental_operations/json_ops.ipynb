{
 "cells": [
  {
   "cell_type": "markdown",
   "metadata": {},
   "source": [
    "# JSON Operations"
   ]
  },
  {
   "cell_type": "code",
   "execution_count": null,
   "metadata": {},
   "outputs": [],
   "source": [
    "import json"
   ]
  },
  {
   "cell_type": "markdown",
   "metadata": {},
   "source": [
    "## JSON Dumps"
   ]
  },
  {
   "cell_type": "code",
   "execution_count": null,
   "metadata": {},
   "outputs": [],
   "source": [
    "# You can store a dictionary as a json file\n",
    "example_dict = {1: \"1\", 2: \"2\", 3: \"3\"}\n",
    "json_text = json.dumps(example_dict)\n",
    "with open(\"example.json\", \"w\", encoding='utf-8') as f:\n",
    "    f.write(json_text)"
   ]
  },
  {
   "cell_type": "markdown",
   "metadata": {},
   "source": [
    "## JSON Loads"
   ]
  },
  {
   "cell_type": "code",
   "execution_count": null,
   "metadata": {},
   "outputs": [],
   "source": [
    "# You can load a json file or text as a dictionary\n",
    "json_text_example = '{\"1\": 1, \"2\": 2, \"3\": 3}'\n",
    "json_dict_example = json.loads(json_text_example)\n",
    "for key, value in json_dict_example.items():\n",
    "    print(key, value)"
   ]
  }
 ],
 "metadata": {
  "language_info": {
   "name": "python"
  }
 },
 "nbformat": 4,
 "nbformat_minor": 2
}
