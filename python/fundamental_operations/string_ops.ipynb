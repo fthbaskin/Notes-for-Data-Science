{
 "cells": [
  {
   "cell_type": "markdown",
   "metadata": {},
   "source": [
    "# String Operations"
   ]
  },
  {
   "cell_type": "markdown",
   "metadata": {},
   "source": [
    "## Printing Multiple Items with Generator Expressions"
   ]
  },
  {
   "cell_type": "markdown",
   "metadata": {},
   "source": [
    "### Printing Array of Strings as a List Using Generator Expression"
   ]
  },
  {
   "cell_type": "code",
   "execution_count": 11,
   "metadata": {},
   "outputs": [
    {
     "name": "stdout",
     "output_type": "stream",
     "text": [
      "- Hello\n",
      "- World\n"
     ]
    }
   ],
   "source": [
    "# Printing array of strings as a list using generator expression\n",
    "str_arr = ['Hello', 'World']\n",
    "print(*[f'- {str_item}' for str_item in str_arr], sep='\\n')"
   ]
  },
  {
   "cell_type": "markdown",
   "metadata": {},
   "source": [
    "### Format String with Jjoin Method and Generator Expression"
   ]
  },
  {
   "cell_type": "code",
   "execution_count": 12,
   "metadata": {},
   "outputs": [
    {
     "name": "stdout",
     "output_type": "stream",
     "text": [
      "- Hello\n",
      "- World\n"
     ]
    }
   ],
   "source": [
    "# Format string with join method and generator expression\n",
    "str_arr = ['Hello', 'World']\n",
    "print('\\n'.join([f'- {str_item}' for str_item in str_arr]))"
   ]
  },
  {
   "cell_type": "markdown",
   "metadata": {},
   "source": [
    "## String Formatting"
   ]
  },
  {
   "cell_type": "markdown",
   "metadata": {},
   "source": [
    "### F-String"
   ]
  },
  {
   "cell_type": "code",
   "execution_count": 13,
   "metadata": {},
   "outputs": [
    {
     "name": "stdout",
     "output_type": "stream",
     "text": [
      "My name is John and I am 30 years old.\n"
     ]
    }
   ],
   "source": [
    "# Format string with f-string\n",
    "name = 'John'\n",
    "age = 30\n",
    "print(f'My name is {name} and I am {age} years old.')"
   ]
  },
  {
   "cell_type": "markdown",
   "metadata": {},
   "source": [
    "### Format Method and Positional Arguments"
   ]
  },
  {
   "cell_type": "code",
   "execution_count": 14,
   "metadata": {},
   "outputs": [
    {
     "name": "stdout",
     "output_type": "stream",
     "text": [
      "My name is John and I am 30 years old.\n"
     ]
    }
   ],
   "source": [
    "# Format string with format method\n",
    "name = 'John'\n",
    "age = 30\n",
    "print('My name is {} and I am {} years old.'.format(name, age))"
   ]
  },
  {
   "cell_type": "code",
   "execution_count": 15,
   "metadata": {},
   "outputs": [
    {
     "name": "stdout",
     "output_type": "stream",
     "text": [
      "My name is John and I am 30 years old.\n"
     ]
    }
   ],
   "source": [
    "# Format string with format method and positional arguments\n",
    "name = 'John'\n",
    "age = 30\n",
    "print('My name is {first} and I am {second} years old.'.format(first=name, second=age))\n"
   ]
  },
  {
   "cell_type": "markdown",
   "metadata": {},
   "source": [
    "### Format String with % Operator"
   ]
  },
  {
   "cell_type": "code",
   "execution_count": 16,
   "metadata": {},
   "outputs": [
    {
     "name": "stdout",
     "output_type": "stream",
     "text": [
      "My name is John and I am 30 years old.\n"
     ]
    }
   ],
   "source": [
    "# Format string with % operator\n",
    "name = 'John'\n",
    "age = 30\n",
    "print('My name is %s and I am %d years old.' % (name, age))"
   ]
  },
  {
   "cell_type": "markdown",
   "metadata": {},
   "source": [
    "## Substrings"
   ]
  },
  {
   "cell_type": "markdown",
   "metadata": {},
   "source": [
    "### Startswith Endswith"
   ]
  },
  {
   "cell_type": "code",
   "execution_count": 17,
   "metadata": {},
   "outputs": [
    {
     "name": "stdout",
     "output_type": "stream",
     "text": [
      "https://www.google.com starts with https://www.\n",
      "https://www.google.com ends with .com\n",
      "https://www.facebook.com starts with https://www.\n",
      "https://www.facebook.com ends with .com\n",
      "https://www.twitter.com starts with https://www.\n",
      "https://www.twitter.com ends with .com\n",
      "https://www.linkedin.com starts with https://www.\n",
      "https://www.linkedin.com ends with .com\n",
      "https://www.instagram.com starts with https://www.\n",
      "https://www.instagram.com ends with .com\n",
      "https://www.pinterest.com starts with https://www.\n",
      "https://www.pinterest.com ends with .com\n"
     ]
    }
   ],
   "source": [
    "\n",
    "# Checking if a string starts with/ends with a specific substring\n",
    "urls = ['https://www.google.com', 'https://www.facebook.com', 'https://www.twitter.com',\n",
    "        'https://www.linkedin.com', 'https://www.instagram.com', 'https://www.pinterest.com']\n",
    "for url in urls:\n",
    "    if url.startswith('https://www.'):\n",
    "        print(f'{url} starts with https://www.')\n",
    "    if url.endswith('.com'):\n",
    "        print(f'{url} ends with .com')\n",
    "# Output: https://www.google.com starts with https://www.\n",
    "#         https://www.google.com ends with .com\n",
    "#         https://www.facebook.com starts with https://www.\n",
    "#         https://www.facebook.com ends with .com\n",
    "#         https://www.twitter.com starts with https://www.\n",
    "#         https://www.twitter.com ends with .com\n",
    "#         https://www.linkedin.com starts with https://www.\n",
    "#         https://www.linkedin.com ends with .com\n",
    "#         https://www.instagram.com starts with https://www.\n",
    "#         https://www.instagram.com ends with .com\n",
    "#         https://www.pinterest.com starts with https://www.\n",
    "#         https://www.pinterest.com ends with .com"
   ]
  },
  {
   "cell_type": "markdown",
   "metadata": {},
   "source": [
    "### Checking Whether String Contains a Substring"
   ]
  },
  {
   "cell_type": "code",
   "execution_count": 19,
   "metadata": {},
   "outputs": [
    {
     "name": "stdout",
     "output_type": "stream",
     "text": [
      "World is present in the string Hello, World!.\n"
     ]
    }
   ],
   "source": [
    "# Checking if a string contains a specific substring\n",
    "string = 'Hello, World!'\n",
    "if 'World' in string:\n",
    "    print('World is present in the string {string}.'.format(string=string))"
   ]
  },
  {
   "cell_type": "markdown",
   "metadata": {},
   "source": [
    "## String Manipulation Methods"
   ]
  },
  {
   "cell_type": "markdown",
   "metadata": {},
   "source": [
    "### Join"
   ]
  },
  {
   "cell_type": "code",
   "execution_count": null,
   "metadata": {},
   "outputs": [],
   "source": [
    "# Joining strings using join method\n",
    "str_arr = ['Joshua', 'David', 'John']\n",
    "print(', '.join(str_arr))"
   ]
  },
  {
   "cell_type": "markdown",
   "metadata": {},
   "source": [
    "### Split"
   ]
  },
  {
   "cell_type": "code",
   "execution_count": null,
   "metadata": {},
   "outputs": [],
   "source": [
    "# Splitting a string into a list of strings\n",
    "string = 'Joshua, David, John'\n",
    "print(string.split(', '))"
   ]
  },
  {
   "cell_type": "markdown",
   "metadata": {},
   "source": [
    "### Replace"
   ]
  },
  {
   "cell_type": "code",
   "execution_count": null,
   "metadata": {},
   "outputs": [],
   "source": [
    "# Replacing a substring with another substring\n",
    "string = 'Joshua, David, John'\n",
    "print(string.replace('David', 'Doe'))"
   ]
  }
 ],
 "metadata": {
  "kernelspec": {
   "display_name": "dl_workbench",
   "language": "python",
   "name": "python3"
  },
  "language_info": {
   "codemirror_mode": {
    "name": "ipython",
    "version": 3
   },
   "file_extension": ".py",
   "mimetype": "text/x-python",
   "name": "python",
   "nbconvert_exporter": "python",
   "pygments_lexer": "ipython3",
   "version": "3.12.5"
  }
 },
 "nbformat": 4,
 "nbformat_minor": 2
}
