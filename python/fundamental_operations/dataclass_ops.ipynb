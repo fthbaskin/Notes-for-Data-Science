{
 "cells": [
  {
   "cell_type": "markdown",
   "metadata": {},
   "source": [
    "# Dataclass Operations"
   ]
  },
  {
   "cell_type": "code",
   "execution_count": 1,
   "metadata": {},
   "outputs": [],
   "source": [
    "from dataclasses import dataclass, asdict"
   ]
  },
  {
   "cell_type": "markdown",
   "metadata": {},
   "source": [
    "## Dataclass Definition"
   ]
  },
  {
   "cell_type": "code",
   "execution_count": 2,
   "metadata": {},
   "outputs": [],
   "source": [
    "@dataclass\n",
    "class Person:\n",
    "    name: str\n",
    "    age: int\n",
    "\n",
    "\n",
    "@dataclass\n",
    "class Employee(Person):\n",
    "    position: str\n",
    "    salary: float"
   ]
  },
  {
   "cell_type": "markdown",
   "metadata": {},
   "source": [
    "## Serializing Dataclasses into Dictionaries"
   ]
  },
  {
   "cell_type": "code",
   "execution_count": 3,
   "metadata": {},
   "outputs": [
    {
     "name": "stdout",
     "output_type": "stream",
     "text": [
      "Employee(name='John', age=30, position='Developer', salary=1000.0)\n",
      "{'name': 'John', 'age': 30, 'position': 'Developer', 'salary': 1000.0}\n",
      "{'name': 'John', 'age': 30, 'position': 'Developer', 'salary': 1000.0}\n"
     ]
    }
   ],
   "source": [
    "# It is possible to convert a dataclass object to a dictionary using the asdict() or __dict__\n",
    "john1 = Employee('John', 30, 'Developer', 1000.0)\n",
    "print(john1)\n",
    "print(john1.__dict__)\n",
    "print(asdict(john1))"
   ]
  },
  {
   "cell_type": "markdown",
   "metadata": {},
   "source": [
    "## Deserializing Dictionaries into Dataclasses"
   ]
  },
  {
   "cell_type": "code",
   "execution_count": 4,
   "metadata": {},
   "outputs": [
    {
     "name": "stdout",
     "output_type": "stream",
     "text": [
      "{'name': 'John', 'age': 30}\n"
     ]
    }
   ],
   "source": [
    "# It is possible to convert a dictionary to a dataclass object using the kwargs unpacking\n",
    "person_dict = {'name': 'John', 'age': 30}\n",
    "john2 = Person(**person_dict)\n",
    "print(asdict(john2))"
   ]
  },
  {
   "cell_type": "code",
   "execution_count": 5,
   "metadata": {},
   "outputs": [
    {
     "name": "stdout",
     "output_type": "stream",
     "text": [
      "Employee.__init__() missing 2 required positional arguments: 'position' and 'salary'\n"
     ]
    }
   ],
   "source": [
    "# It requires all the fields to be present in the dictionary\n",
    "try:\n",
    "    john3 = Employee(**person_dict)\n",
    "    print(asdict(john2))\n",
    "except TypeError as e:\n",
    "    print(e)"
   ]
  }
 ],
 "metadata": {
  "kernelspec": {
   "display_name": "dl_workbench",
   "language": "python",
   "name": "python3"
  },
  "language_info": {
   "codemirror_mode": {
    "name": "ipython",
    "version": 3
   },
   "file_extension": ".py",
   "mimetype": "text/x-python",
   "name": "python",
   "nbconvert_exporter": "python",
   "pygments_lexer": "ipython3",
   "version": "3.12.5"
  }
 },
 "nbformat": 4,
 "nbformat_minor": 2
}
